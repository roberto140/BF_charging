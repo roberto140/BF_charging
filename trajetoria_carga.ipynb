{
 "cells": [
  {
   "cell_type": "markdown",
   "metadata": {},
   "source": [
    "# Trajetória do Carregamento\n",
    "## Algoritmo básico \n",
    "1. Carregar dados basicos (geometria do forno, padrões de carregamento, superficie inicial de carregamento)\n",
    "2. Inicializar o primeiro angulo de carga\n",
    "3. Calculo de curvas de queda.  \n",
    "\n",
    "Neste primeira tentativa de script/implementação fazer até as trajetórias de queda do material.\n"
   ]
  },
  {
   "cell_type": "code",
   "execution_count": 5,
   "metadata": {},
   "outputs": [],
   "source": [
    "# Importação das bibliotecas necessárias\n",
    "#trabalhar com arrays e matrizes\n",
    "import numpy as np\n",
    "#caso necessário trabalhar com data.frames\n",
    "import pandas as pd \n",
    "#caso necessário algumas ferramentas de prgramação cientifica\n",
    "import scipy as sci\n",
    "#biblioteca basica de gráficos\n",
    "import matplotlib as plt\n",
    "#biblioteda de matemática\n",
    "import math as m"
   ]
  },
  {
   "cell_type": "markdown",
   "metadata": {},
   "source": [
    "## Considerações e dados para este problema. \n",
    "#### Formula para saida do material no chute \n",
    "$$V_3 = [\\omega^2cos\\alpha (cos\\alpha + \\mu sin \\alpha)L^2 \\phi^2 + 2g(sin\\alpha - \\mu cos\\alpha)L\\phi^2 + (V_{2v} sin\\alpha)^2]^{0.5} $$  \n",
    "Sendo esta velociadade de saída do material do chute podendo ser resolvida nas 3 direções de um sistemas de coordenadas cilindrico.\n",
    "$$V_3 = V_3cos(\\alpha)$$\n",
    "$$V_z = -V_3sin(\\alpha)$$\n",
    "$$V_\\theta = r_c \\omega$$\n",
    "\n",
    "#### Dados basicos do Alto Forno\n",
    "\n",
    "* Matriz de Angulos de Inclinação \n",
    "* Velocidade de Rotação do Chute\n",
    "* Altura do Downcomer (calha)\n",
    "* diametro Efetivo da calha."
   ]
  },
  {
   "cell_type": "code",
   "execution_count": 10,
   "metadata": {},
   "outputs": [
    {
     "name": "stdout",
     "output_type": "stream",
     "text": [
      "2327.091020497275\n",
      "592.0455296105627\n",
      "2.339644096569104\n",
      "2.540659950750946\n",
      "4.548417645151545\n",
      "4.359113254474197\n"
     ]
    }
   ],
   "source": [
    "#dados  e funções basicas \n",
    "#densidade minério\n",
    "rho_ore = 1846\n",
    "#densidade coque\n",
    "rho_coke = 510\n",
    "#angulo do silo do bunker\n",
    "a_bunker = (65*m.pi)/180\n",
    "#gravidade\n",
    "g = 9.81\n",
    "#diamatro effetivo\n",
    "d_eff_ore = 0.925\n",
    "d_eff_coke = 0.895\n",
    "#fatores de correção em relação aos contatos entre particulas (fator empirico)\n",
    "k_ore = 0.6\n",
    "k_coke = 0.58\n",
    "#altura calha metros\n",
    "h = 2.6\n",
    "#Comprimento do chute\n",
    "L = 4.5\n",
    "#Velocidade angular de rotação do chute\n",
    "o = 8\n",
    "#Fator de correção do chute\n",
    "phi = 0.7\n",
    "#Coef de atrito\n",
    "mi_c = 0,45\n",
    "mi_o = 0,48\n",
    "#fluxo de massa saindo dos hoppers\n",
    "\n",
    "def G(p,d,b):\n",
    "    return (m.pi/4)*p*(m.pow(d,2.5))*(m.pow(g,0.5))*m.pow((1-m.cos(b))/(2*m.pow(m.sin(b),3)),0.5)\n",
    "#velocidade na saida dos hoppers\n",
    "def V1(g,p):\n",
    "    return g/(m.pi*m.pow(0.475,2))/(p*0.7)\n",
    "#velocidade na saida do downcomer (calha)\n",
    "def V2(v1, h,k):\n",
    "    return m.sqrt(v1**2 + 2*g*h)*k\n",
    "#velocidade na saida do chute \n",
    "def V3(o,a,L,phi,mi,V2):\n",
    "    return m.sqrt(o**2*m.cos(a)*(m.cos(a)+mi*m.sin(a))*(L**2)*(phi**2) + 2*g*(m.sin(a)-mi*m.cos(a))*L*phi + (V2*m.sin(a))**2)\n",
    "\n",
    "\n",
    "G_ore = G(rho_ore,d_eff_ore,a_bunker)\n",
    "G_coke = G(p = rho_coke, d = d_eff_coke, b = a_bunker)\n",
    "V1_coke = V1(G_coke,rho_coke)\n",
    "V1_ore = V1(G_ore,rho_ore)\n",
    "V2_ore = V2(V1_ore,h,k_ore)\n",
    "V2_coke = V2(V1_coke,h,k_coke)\n",
    "\n",
    "\n",
    "#Angulos de carregamento para cada posição de 1 a 11 \n",
    "angles = np.array([40,38,36,34,32,29.5,27,24.5,22,19,5])\n",
    "\n",
    "#valocidades de saida na calha para minério \n",
    "\n",
    "i = 0 \n",
    "while (i <= 10):\n",
    "    "
   ]
  },
  {
   "cell_type": "code",
   "execution_count": 16,
   "metadata": {},
   "outputs": [
    {
     "name": "stdout",
     "output_type": "stream",
     "text": [
      "40.0\n",
      "0\n",
      "A soma é 40.0\n",
      "1\n",
      "A soma é 78.0\n",
      "2\n",
      "A soma é 114.0\n",
      "3\n",
      "A soma é 148.0\n",
      "4\n",
      "A soma é 180.0\n",
      "5\n",
      "A soma é 209.5\n",
      "6\n",
      "A soma é 236.5\n",
      "7\n",
      "A soma é 261.0\n",
      "8\n",
      "A soma é 283.0\n",
      "9\n",
      "A soma é 302.0\n",
      "10\n",
      "A soma é 307.0\n",
      "11\n"
     ]
    }
   ],
   "source": [
    "\n",
    "\n",
    "p = np.array([40,38,36,34,32,29.5,27,24.5,22,19,5])\n",
    "i = 0\n",
    "\n",
    "while (i <= 10):\n",
    "    if i == 0:\n",
    "        a = p[i]\n",
    "        print(a)\n",
    "        print(i)\n",
    "    else:\n",
    "        a = p[i]+a\n",
    "    print(\"A soma é\", a)\n",
    "    i = i+1\n",
    "    print(i)\n"
   ]
  },
  {
   "cell_type": "markdown",
   "metadata": {},
   "source": [
    "# trajetória dos materiais dentro do forno\n",
    "\n",
    "Terei que criar nas funções para cada espaço de tempo dt (NÃO NECESSARIAMENTE PARA OS DTS PQ A FUNÇÃO FINAL EH ALTURA EM RELAÇÃO A DISTANCIA ENTÃO TEREI UMA Y(r)) os valores de r e y onde irei plotar num grafico de dispersão com linhas.  \n",
    "Fazer isso com Numpy depois com algum if ou for correr as funções nas arrays (não sei se existe uma forma de aplicar termo a termo em um vetor uma função sem precisar de algum lasso)  \n",
    "\n",
    "Sempre lembrar que no python os vetores começam com o indice **0**"
   ]
  }
 ],
 "metadata": {
  "interpreter": {
   "hash": "916dbcbb3f70747c44a77c7bcd40155683ae19c65e1c03b4aa3499c5328201f1"
  },
  "kernelspec": {
   "display_name": "Python 3.8.10 64-bit",
   "language": "python",
   "name": "python3"
  },
  "language_info": {
   "codemirror_mode": {
    "name": "ipython",
    "version": 3
   },
   "file_extension": ".py",
   "mimetype": "text/x-python",
   "name": "python",
   "nbconvert_exporter": "python",
   "pygments_lexer": "ipython3",
   "version": "3.8.10"
  },
  "orig_nbformat": 4
 },
 "nbformat": 4,
 "nbformat_minor": 2
}
